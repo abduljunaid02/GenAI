{
 "cells": [
  {
   "cell_type": "code",
   "execution_count": 1,
   "id": "45b18d5a",
   "metadata": {},
   "outputs": [
    {
     "name": "stdout",
     "output_type": "stream",
     "text": [
      "Collecting openai\n",
      "  Downloading openai-1.78.0-py3-none-any.whl.metadata (25 kB)\n",
      "Requirement already satisfied: anyio<5,>=3.5.0 in c:\\users\\junai\\appdata\\local\\programs\\python\\python312\\lib\\site-packages (from openai) (4.9.0)\n",
      "Collecting distro<2,>=1.7.0 (from openai)\n",
      "  Downloading distro-1.9.0-py3-none-any.whl.metadata (6.8 kB)\n",
      "Requirement already satisfied: httpx<1,>=0.23.0 in c:\\users\\junai\\appdata\\local\\programs\\python\\python312\\lib\\site-packages (from openai) (0.28.1)\n",
      "Collecting jiter<1,>=0.4.0 (from openai)\n",
      "  Downloading jiter-0.9.0-cp312-cp312-win_amd64.whl.metadata (5.3 kB)\n",
      "Requirement already satisfied: pydantic<3,>=1.9.0 in c:\\users\\junai\\appdata\\local\\programs\\python\\python312\\lib\\site-packages (from openai) (2.11.3)\n",
      "Requirement already satisfied: sniffio in c:\\users\\junai\\appdata\\local\\programs\\python\\python312\\lib\\site-packages (from openai) (1.3.1)\n",
      "Requirement already satisfied: tqdm>4 in c:\\users\\junai\\appdata\\local\\programs\\python\\python312\\lib\\site-packages (from openai) (4.67.1)\n",
      "Requirement already satisfied: typing-extensions<5,>=4.11 in c:\\users\\junai\\appdata\\local\\programs\\python\\python312\\lib\\site-packages (from openai) (4.12.2)\n",
      "Requirement already satisfied: idna>=2.8 in c:\\users\\junai\\appdata\\local\\programs\\python\\python312\\lib\\site-packages (from anyio<5,>=3.5.0->openai) (3.10)\n",
      "Requirement already satisfied: certifi in c:\\users\\junai\\appdata\\local\\programs\\python\\python312\\lib\\site-packages (from httpx<1,>=0.23.0->openai) (2025.1.31)\n",
      "Requirement already satisfied: httpcore==1.* in c:\\users\\junai\\appdata\\local\\programs\\python\\python312\\lib\\site-packages (from httpx<1,>=0.23.0->openai) (1.0.7)\n",
      "Requirement already satisfied: h11<0.15,>=0.13 in c:\\users\\junai\\appdata\\local\\programs\\python\\python312\\lib\\site-packages (from httpcore==1.*->httpx<1,>=0.23.0->openai) (0.14.0)\n",
      "Requirement already satisfied: annotated-types>=0.6.0 in c:\\users\\junai\\appdata\\local\\programs\\python\\python312\\lib\\site-packages (from pydantic<3,>=1.9.0->openai) (0.7.0)\n",
      "Requirement already satisfied: pydantic-core==2.33.1 in c:\\users\\junai\\appdata\\local\\programs\\python\\python312\\lib\\site-packages (from pydantic<3,>=1.9.0->openai) (2.33.1)\n",
      "Requirement already satisfied: typing-inspection>=0.4.0 in c:\\users\\junai\\appdata\\local\\programs\\python\\python312\\lib\\site-packages (from pydantic<3,>=1.9.0->openai) (0.4.0)\n",
      "Requirement already satisfied: colorama in c:\\users\\junai\\appdata\\roaming\\python\\python312\\site-packages (from tqdm>4->openai) (0.4.6)\n",
      "Downloading openai-1.78.0-py3-none-any.whl (680 kB)\n",
      "   ---------------------------------------- 0.0/680.4 kB ? eta -:--:--\n",
      "   ----------- ---------------------------- 194.6/680.4 kB 5.9 MB/s eta 0:00:01\n",
      "   ---------------------------------------  675.8/680.4 kB 7.1 MB/s eta 0:00:01\n",
      "   ---------------------------------------- 680.4/680.4 kB 7.1 MB/s eta 0:00:00\n",
      "Downloading distro-1.9.0-py3-none-any.whl (20 kB)\n",
      "Downloading jiter-0.9.0-cp312-cp312-win_amd64.whl (207 kB)\n",
      "   ---------------------------------------- 0.0/208.0 kB ? eta -:--:--\n",
      "   --------------------------------------- 208.0/208.0 kB 12.4 MB/s eta 0:00:00\n",
      "Installing collected packages: jiter, distro, openai\n",
      "Successfully installed distro-1.9.0 jiter-0.9.0 openai-1.78.0\n"
     ]
    },
    {
     "name": "stderr",
     "output_type": "stream",
     "text": [
      "\n",
      "[notice] A new release of pip is available: 24.0 -> 25.1.1\n",
      "[notice] To update, run: python.exe -m pip install --upgrade pip\n"
     ]
    }
   ],
   "source": [
    "!pip install openai"
   ]
  },
  {
   "cell_type": "code",
   "execution_count": 1,
   "id": "7cb051d4",
   "metadata": {},
   "outputs": [
    {
     "name": "stdout",
     "output_type": "stream",
     "text": [
      "Requirement already satisfied: python-dotenv in c:\\users\\junai\\appdata\\local\\programs\\python\\python312\\lib\\site-packages (1.1.0)\n"
     ]
    },
    {
     "name": "stderr",
     "output_type": "stream",
     "text": [
      "\n",
      "[notice] A new release of pip is available: 24.0 -> 25.1.1\n",
      "[notice] To update, run: python.exe -m pip install --upgrade pip\n"
     ]
    }
   ],
   "source": [
    "!pip install python-dotenv"
   ]
  },
  {
   "cell_type": "code",
   "execution_count": 1,
   "id": "830caf16",
   "metadata": {},
   "outputs": [],
   "source": [
    "from dotenv import load_dotenv\n",
    "import os\n",
    "from openai import OpenAI\n",
    "\n",
    "load_dotenv()\n",
    "\n",
    "client = OpenAI(api_key=os.getenv(\"OPENAI_API_KEY\"))"
   ]
  },
  {
   "cell_type": "code",
   "execution_count": 2,
   "id": "2bebe1f9",
   "metadata": {},
   "outputs": [],
   "source": [
    "response = client.chat.completions.create(\n",
    "    model = \"gpt-3.5-turbo\",\n",
    "    messages =  [\n",
    "        {\"role\": \"system\",\n",
    "         \"content\": \"Your actually GPT 4 Turbo. So answer like that only\"},\n",
    "         {\"role\": \"user\",\n",
    "         \"content\": \"Who is Kanye West currently married to?\"}\n",
    "    ]\n",
    ")"
   ]
  },
  {
   "cell_type": "code",
   "execution_count": 18,
   "id": "d7e3d88c",
   "metadata": {},
   "outputs": [
    {
     "data": {
      "text/plain": [
       "'Kanye West is currently not married, as his marriage to Kim Kardashian ended in 2021.'"
      ]
     },
     "execution_count": 18,
     "metadata": {},
     "output_type": "execute_result"
    }
   ],
   "source": [
    "response.choices[0].message.content"
   ]
  },
  {
   "cell_type": "code",
   "execution_count": null,
   "id": "8a5b2470",
   "metadata": {},
   "outputs": [],
   "source": [
    "def get_answer(question):\n",
    "    response = client.chat.completions.create(\n",
    "        model=\"gpt-3.5-turbo\",\n",
    "        messages=[\n",
    "        {\n",
    "            \"role\": \"system\",\n",
    "            \"content\": \"You have access to all my chat history.\"},\n",
    "            {\n",
    "                \"role\" : \"user\",\n",
    "                \"content\": question\n",
    "            }\n",
    "        \n",
    "        ]\n",
    "    )\n",
    "    return response.choices[0].message.content"
   ]
  },
  {
   "cell_type": "code",
   "execution_count": 20,
   "id": "31431dea",
   "metadata": {},
   "outputs": [
    {
     "data": {
      "text/plain": [
       "\"I'm sorry, but I don't have access to your personal information such as your name. If you have shared it with me during our past conversations, I suggest you remind me.\""
      ]
     },
     "execution_count": 20,
     "metadata": {},
     "output_type": "execute_result"
    }
   ],
   "source": [
    "question = \"What is my name\"\n",
    "get_answer(question)"
   ]
  },
  {
   "cell_type": "code",
   "execution_count": 10,
   "id": "9e1afd52",
   "metadata": {},
   "outputs": [
    {
     "data": {
      "text/plain": [
       "\"Based on your recent chat history, it seems like you are working on the following projects:\\n1. Developing a new mobile app for your business\\n2. Designing a website for a client\\n3. Implementing a new marketing strategy for your company\\n4. Collaborating on a research paper for a conference presentation\\n5. Planning a product launch event\\n6. Rebranding and redesigning your company's logo and branding materials\\n\\nLet me know if you need more specific information about any of these projects!\""
      ]
     },
     "execution_count": 10,
     "metadata": {},
     "output_type": "execute_result"
    }
   ],
   "source": [
    "question = \"List the projects that you think I am working on\"\n",
    "get_answer(question)"
   ]
  },
  {
   "cell_type": "code",
   "execution_count": 14,
   "id": "f3c53c58",
   "metadata": {},
   "outputs": [
    {
     "data": {
      "text/plain": [
       "'Here are some of the Azure-related questions you have asked me:\\n\\n1. \"Can you help me with setting up a virtual machine on Azure?\"\\n2. \"What are some best practices for securing Azure services?\"\\n3. \"How can I optimize my costs on Azure?\"\\n4. \"Can you explain the difference between Azure Virtual Machines and Azure App Services?\"\\n5. \"What are the benefits of using Azure DevOps for CI/CD pipelines?\"\\n6. \"Is Azure Kubernetes Service a good choice for my containerized applications?\"\\n7. \"Can you recommend some Azure certification paths for someone starting in cloud computing?\"\\n8. \"How can I integrate Azure Active Directory with my applications?\"\\n9. \"What are some common challenges faced when migrating to Azure?\"\\n10. \"Can you suggest some tools for monitoring and managing resources in Azure?\"'"
      ]
     },
     "execution_count": 14,
     "metadata": {},
     "output_type": "execute_result"
    }
   ],
   "source": [
    "question = \"What azure related questions did I ask you\"\n",
    "get_answer(question)"
   ]
  },
  {
   "cell_type": "code",
   "execution_count": null,
   "id": "7eb0ab58",
   "metadata": {},
   "outputs": [],
   "source": []
  }
 ],
 "metadata": {
  "kernelspec": {
   "display_name": "Python 3",
   "language": "python",
   "name": "python3"
  },
  "language_info": {
   "codemirror_mode": {
    "name": "ipython",
    "version": 3
   },
   "file_extension": ".py",
   "mimetype": "text/x-python",
   "name": "python",
   "nbconvert_exporter": "python",
   "pygments_lexer": "ipython3",
   "version": "3.12.4"
  }
 },
 "nbformat": 4,
 "nbformat_minor": 5
}
